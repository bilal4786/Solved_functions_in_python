{
 "cells": [
  {
   "cell_type": "code",
   "execution_count": 1,
   "id": "c0ee2442-a573-4037-a5ac-4e278fd6f8bc",
   "metadata": {},
   "outputs": [
    {
     "name": "stdin",
     "output_type": "stream",
     "text": [
      "Enter your name Bilal\n"
     ]
    },
    {
     "name": "stdout",
     "output_type": "stream",
     "text": [
      "Hello, Bilal! Current time is 2024-11-30 13:11:25.515360\n"
     ]
    }
   ],
   "source": [
    "#Simple Function\n",
    "#Create a function named greet_with_time that takes a name as input and prints a greeting message along with the current time.\n",
    "import datetime\n",
    "def greet_with_time(name):\n",
    "    current_time = datetime.datetime.now()\n",
    "    print(f\"Hello, {name}! Current time is {current_time}\")\n",
    "user = input(\"Enter your name\")\n",
    "greet_with_time(user)"
   ]
  },
  {
   "cell_type": "code",
   "execution_count": 2,
   "id": "59f20a7c-8883-45c7-89b4-6e48c2cac6dc",
   "metadata": {},
   "outputs": [
    {
     "name": "stdin",
     "output_type": "stream",
     "text": [
      "Enter first number 10\n",
      "Enter second number 10\n",
      "Enter third number 10\n"
     ]
    },
    {
     "name": "stdout",
     "output_type": "stream",
     "text": [
      " The average of enterd numbers is 10.0\n"
     ]
    }
   ],
   "source": [
    "#Function with Multiple Parameters:\n",
    "#Write a function called calculate_average that takes three numbers as input and returns their average.\n",
    "def calculate_avg(n1,n2,n3):\n",
    "    sum = n1+n2+n3\n",
    "    avg = sum/3\n",
    "    print(f\" The average of enterd numbers is {avg}\")\n",
    "v1 = int(input(\"Enter first number\"))\n",
    "v2 = int(input(\"Enter second number\"))\n",
    "v3 = int(input(\"Enter third number\"))\n",
    "calculate_avg(v1,v2,v3)"
   ]
  },
  {
   "cell_type": "code",
   "execution_count": 3,
   "id": "16c6849a-9192-4ade-bf66-29388b625e3c",
   "metadata": {},
   "outputs": [
    {
     "name": "stdin",
     "output_type": "stream",
     "text": [
      "Enter price 100\n",
      "Enter discount percentage 20\n"
     ]
    },
    {
     "name": "stdout",
     "output_type": "stream",
     "text": [
      "Price after discount is 80.0 Discount amount is 20.0\n"
     ]
    }
   ],
   "source": [
    "#Default Argument:\n",
    "#Define a function calculate_discount that takes a price and a discount percentage as input. Set a default discount percentage of 10%.\n",
    "def calculate_discount(price,discount_percentage = 10):\n",
    "    discount_amount = price*(discount_percentage / 100)\n",
    "    final_price = price - discount_amount\n",
    "    print(f\"Price after discount is {final_price} Discount amount is {discount_amount}\")\n",
    "p = int(input(\"Enter price\"))\n",
    "d = int(input(\"Enter discount percentage\"))\n",
    "calculate_discount(p,d)"
   ]
  },
  {
   "cell_type": "code",
   "execution_count": 4,
   "id": "7a2e322c-8a04-46ce-93c6-66969965f2f3",
   "metadata": {},
   "outputs": [
    {
     "name": "stdout",
     "output_type": "stream",
     "text": [
      "Hello Bilal. I know you are 19 years old and you belong to Lahore city\n"
     ]
    }
   ],
   "source": [
    "#Keyword Arguments:\n",
    "#Create a function print_info that takes a name, age, and city as keyword arguments.\n",
    "def print_info(name,age,city):\n",
    "    print(f\"Hello {name}. I know you are {age} years old and you belong to {city} city\")\n",
    "print_info(\"Bilal\",19,\"Lahore\")"
   ]
  },
  {
   "cell_type": "code",
   "execution_count": 5,
   "id": "0899baba-5508-42c3-bffe-00522238c937",
   "metadata": {},
   "outputs": [
    {
     "name": "stdout",
     "output_type": "stream",
     "text": [
      "5\n"
     ]
    }
   ],
   "source": [
    "#Variable-Length Arguments:\n",
    "#Write a function find_max that can take any number of arguments and returns the maximum value.\n",
    "def find_max(*args):\n",
    "    if not args:\n",
    "        return none\n",
    "    else:\n",
    "        return max(args)\n",
    "print(find_max(1,2,3,4,5))"
   ]
  },
  {
   "cell_type": "code",
   "execution_count": 6,
   "id": "4b584b55-8053-4f15-918f-50aaf50f2f47",
   "metadata": {},
   "outputs": [
    {
     "name": "stdout",
     "output_type": "stream",
     "text": [
      "120\n"
     ]
    }
   ],
   "source": [
    "#Recursive Function\n",
    "#Implement a recursive function to calculate the factorial of a number.\n",
    "def factorial(n):\n",
    "    if n == 0 or n == 1:\n",
    "        return 1\n",
    "    else:\n",
    "        return n * factorial(n - 1)\n",
    "print(factorial(5)) "
   ]
  },
  {
   "cell_type": "code",
   "execution_count": 7,
   "id": "610d2285-e5d1-42b0-9df1-9fdcc59fbab6",
   "metadata": {},
   "outputs": [
    {
     "name": "stdout",
     "output_type": "stream",
     "text": [
      "[1, 4, 9, 16, 25]\n"
     ]
    }
   ],
   "source": [
    "#Function as an Argument:\n",
    "#Define a function apply_function that takes a function and a list of numbers as input. Apply the function to each number in the list and return a new list with the results.\n",
    "def apply_function(function,numbers):\n",
    "    return [function(number) for number in numbers]\n",
    "def square(x):\n",
    "    return x*x\n",
    "numbers = [1,2,3,4,5]\n",
    "result = apply_function(square, numbers)\n",
    "print(result)"
   ]
  },
  {
   "cell_type": "code",
   "execution_count": null,
   "id": "a3e87e55-5e72-4bcd-8eb5-794d29f4d84f",
   "metadata": {},
   "outputs": [],
   "source": []
  }
 ],
 "metadata": {
  "kernelspec": {
   "display_name": "Python 3 (ipykernel)",
   "language": "python",
   "name": "python3"
  },
  "language_info": {
   "codemirror_mode": {
    "name": "ipython",
    "version": 3
   },
   "file_extension": ".py",
   "mimetype": "text/x-python",
   "name": "python",
   "nbconvert_exporter": "python",
   "pygments_lexer": "ipython3",
   "version": "3.13.0"
  }
 },
 "nbformat": 4,
 "nbformat_minor": 5
}
